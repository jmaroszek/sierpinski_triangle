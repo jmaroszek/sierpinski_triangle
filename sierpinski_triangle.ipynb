{
 "cells": [
  {
   "cell_type": "markdown",
   "metadata": {},
   "source": [
    "Imports"
   ]
  },
  {
   "cell_type": "code",
   "execution_count": 1,
   "metadata": {},
   "outputs": [],
   "source": [
    "%matplotlib inline\n",
    "import matplotlib.pyplot as plt\n",
    "from matplotlib.animation import FuncAnimation\n",
    "import random\n",
    "import pandas as pd\n",
    "import os "
   ]
  },
  {
   "cell_type": "markdown",
   "metadata": {},
   "source": [
    "Back End"
   ]
  },
  {
   "cell_type": "code",
   "execution_count": 2,
   "metadata": {},
   "outputs": [],
   "source": [
    "vertex_1 = (0, 0)\n",
    "vertex_2 = (100, 0)\n",
    "vertex_3 = (50, 100)\n",
    "\n",
    "initial_tri_coords = [vertex_1, vertex_2, vertex_3]\n",
    "\n",
    "def get_random_vertex():\n",
    "    rand_index = random.randint(0, 2)\n",
    "    return initial_tri_coords[rand_index]\n",
    "\n",
    "def get_midpoint(p1, p2):\n",
    "    x1, y1 = p1\n",
    "    x2, y2 = p2\n",
    "    return [(x1 + x2) / 2, (y1 + y2) / 2]\n",
    "\n",
    "def get_area(p1, p2, p3):\n",
    "    x1, y1 = p1\n",
    "    x2, y2 = p2\n",
    "    x3, y3 = p3\n",
    "    return abs((x1*(y2-y3) + x2*(y3-y1) + x3*(y1-y2)) / 2.0)\n",
    "    \n",
    "def inside(test_p, p1 = vertex_1, p2 = vertex_2, p3 = vertex_3):\n",
    "    a = get_area(p1, p2, p3)\n",
    "    a1 = get_area(p1, p2, test_p)\n",
    "    a2 = get_area(p1, test_p, p3)\n",
    "    a3 = get_area(test_p, p2, p3)\n",
    "    return True if a == (a1 + a2 + a3) else False\n",
    "\n",
    "def get_random_point():\n",
    "    return random.uniform(0, 100), random.uniform(0, 100)\n",
    "\n",
    "def get_start_point():\n",
    "    current_point = get_random_point()\n",
    "    while not inside(current_point):\n",
    "        current_point = get_random_point()\n",
    "    return current_point\n",
    "\n",
    "def generate_data(num_points = 20000): \n",
    "    x_values, y_values = list(), list()\n",
    "    current_point = get_start_point()\n",
    "    for k in range(num_points):\n",
    "        rand_vertex = get_random_vertex()\n",
    "        midpoint = get_midpoint(current_point, rand_vertex)\n",
    "        x_values.append(midpoint[0])\n",
    "        y_values.append(midpoint[1])\n",
    "        current_point = midpoint \n",
    "    return [x_values, y_values]"
   ]
  },
  {
   "cell_type": "markdown",
   "metadata": {},
   "source": [
    "Front End"
   ]
  },
  {
   "cell_type": "code",
   "execution_count": 4,
   "metadata": {},
   "outputs": [
    {
     "data": {
      "image/png": "[encoded data removed]",
      "text/plain": [
       "<Figure size 432x288 with 1 Axes>"
      ]
     },
     "metadata": {
      "needs_background": "light"
     },
     "output_type": "display_data"
    }
   ],
   "source": [
    "fig, ax = plt.subplots(frameon = False)\n",
    "\n",
    "ax.set_xlim(0, 100)\n",
    "ax.set_ylim(0, 100)\n",
    "ax.get_xaxis().set_visible(False)\n",
    "ax.get_yaxis().set_visible(False)\n",
    "ax.axis('off')\n",
    "scat = ax.scatter([], [])\n",
    "\n",
    "x_values, y_values = generate_data()\n",
    "\n",
    "def draw_frame(frame_n):\n",
    "    frame_multiplier = int(len(x_values) / 100)\n",
    "    index = frame_multiplier * frame_n\n",
    "    coordinates = pd.DataFrame({'x' : x_values[:index], 'y' : y_values[:index]})\n",
    "    scat.set_offsets(coordinates)\n",
    "    scat.set_sizes([1 for j in range(len(coordinates))])\n",
    "    return scat\n",
    "\n",
    "anim = FuncAnimation(fig, draw_frame)\n",
    "save_directory = os.getcwd() + \"/sierpinski_triangle.mp4\"\n",
    "anim.save(save_directory, fps = 33, dpi = 400)"
   ]
  }
 ],
 "metadata": {
  "interpreter": {
   "hash": "aee8b7b246df8f9039afb4144a1f6fd8d2ca17a180786b69acc140d282b71a49"
  },
  "kernelspec": {
   "display_name": "Python 3.10.1 64-bit",
   "language": "python",
   "name": "python3"
  },
  "language_info": {
   "codemirror_mode": {
    "name": "ipython",
    "version": 3
   },
   "file_extension": ".py",
   "mimetype": "text/x-python",
   "name": "python",
   "nbconvert_exporter": "python",
   "pygments_lexer": "ipython3",
   "version": "3.10.1"
  },
  "orig_nbformat": 4
 },
 "nbformat": 4,
 "nbformat_minor": 2
}
